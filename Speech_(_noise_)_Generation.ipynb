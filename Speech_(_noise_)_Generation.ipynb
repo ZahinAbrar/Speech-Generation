{
  "nbformat": 4,
  "nbformat_minor": 0,
  "metadata": {
    "colab": {
      "provenance": []
    },
    "kernelspec": {
      "name": "python3",
      "display_name": "Python 3"
    },
    "language_info": {
      "name": "python"
    }
  },
  "cells": [
    {
      "cell_type": "code",
      "source": [
        "pip install numpy librosa pydub soundfile"
      ],
      "metadata": {
        "colab": {
          "base_uri": "https://localhost:8080/"
        },
        "id": "PZooZWOnPqcK",
        "outputId": "88051532-82dd-4b4b-f672-3bca0acd0957"
      },
      "execution_count": 1,
      "outputs": [
        {
          "output_type": "stream",
          "name": "stdout",
          "text": [
            "Requirement already satisfied: numpy in /usr/local/lib/python3.10/dist-packages (1.26.4)\n",
            "Requirement already satisfied: librosa in /usr/local/lib/python3.10/dist-packages (0.10.2.post1)\n",
            "Collecting pydub\n",
            "  Downloading pydub-0.25.1-py2.py3-none-any.whl.metadata (1.4 kB)\n",
            "Requirement already satisfied: soundfile in /usr/local/lib/python3.10/dist-packages (0.12.1)\n",
            "Requirement already satisfied: audioread>=2.1.9 in /usr/local/lib/python3.10/dist-packages (from librosa) (3.0.1)\n",
            "Requirement already satisfied: scipy>=1.2.0 in /usr/local/lib/python3.10/dist-packages (from librosa) (1.13.1)\n",
            "Requirement already satisfied: scikit-learn>=0.20.0 in /usr/local/lib/python3.10/dist-packages (from librosa) (1.5.2)\n",
            "Requirement already satisfied: joblib>=0.14 in /usr/local/lib/python3.10/dist-packages (from librosa) (1.4.2)\n",
            "Requirement already satisfied: decorator>=4.3.0 in /usr/local/lib/python3.10/dist-packages (from librosa) (4.4.2)\n",
            "Requirement already satisfied: numba>=0.51.0 in /usr/local/lib/python3.10/dist-packages (from librosa) (0.60.0)\n",
            "Requirement already satisfied: pooch>=1.1 in /usr/local/lib/python3.10/dist-packages (from librosa) (1.8.2)\n",
            "Requirement already satisfied: soxr>=0.3.2 in /usr/local/lib/python3.10/dist-packages (from librosa) (0.5.0.post1)\n",
            "Requirement already satisfied: typing-extensions>=4.1.1 in /usr/local/lib/python3.10/dist-packages (from librosa) (4.12.2)\n",
            "Requirement already satisfied: lazy-loader>=0.1 in /usr/local/lib/python3.10/dist-packages (from librosa) (0.4)\n",
            "Requirement already satisfied: msgpack>=1.0 in /usr/local/lib/python3.10/dist-packages (from librosa) (1.1.0)\n",
            "Requirement already satisfied: cffi>=1.0 in /usr/local/lib/python3.10/dist-packages (from soundfile) (1.17.1)\n",
            "Requirement already satisfied: pycparser in /usr/local/lib/python3.10/dist-packages (from cffi>=1.0->soundfile) (2.22)\n",
            "Requirement already satisfied: packaging in /usr/local/lib/python3.10/dist-packages (from lazy-loader>=0.1->librosa) (24.1)\n",
            "Requirement already satisfied: llvmlite<0.44,>=0.43.0dev0 in /usr/local/lib/python3.10/dist-packages (from numba>=0.51.0->librosa) (0.43.0)\n",
            "Requirement already satisfied: platformdirs>=2.5.0 in /usr/local/lib/python3.10/dist-packages (from pooch>=1.1->librosa) (4.3.6)\n",
            "Requirement already satisfied: requests>=2.19.0 in /usr/local/lib/python3.10/dist-packages (from pooch>=1.1->librosa) (2.32.3)\n",
            "Requirement already satisfied: threadpoolctl>=3.1.0 in /usr/local/lib/python3.10/dist-packages (from scikit-learn>=0.20.0->librosa) (3.5.0)\n",
            "Requirement already satisfied: charset-normalizer<4,>=2 in /usr/local/lib/python3.10/dist-packages (from requests>=2.19.0->pooch>=1.1->librosa) (3.4.0)\n",
            "Requirement already satisfied: idna<4,>=2.5 in /usr/local/lib/python3.10/dist-packages (from requests>=2.19.0->pooch>=1.1->librosa) (3.10)\n",
            "Requirement already satisfied: urllib3<3,>=1.21.1 in /usr/local/lib/python3.10/dist-packages (from requests>=2.19.0->pooch>=1.1->librosa) (2.2.3)\n",
            "Requirement already satisfied: certifi>=2017.4.17 in /usr/local/lib/python3.10/dist-packages (from requests>=2.19.0->pooch>=1.1->librosa) (2024.8.30)\n",
            "Downloading pydub-0.25.1-py2.py3-none-any.whl (32 kB)\n",
            "Installing collected packages: pydub\n",
            "Successfully installed pydub-0.25.1\n"
          ]
        }
      ]
    },
    {
      "cell_type": "markdown",
      "source": [
        "The code generates the pseudo-speech audio and saves it as a .wav file named pseudo_speech_output.wav."
      ],
      "metadata": {
        "id": "-pRA_VWARobM"
      }
    },
    {
      "cell_type": "markdown",
      "source": [
        "**Detailed Explanation of Code:**\n",
        "Parameters Setup:\n",
        "\n",
        "**duration:** Specifies how long the pseudo-speech lasts (in seconds).\n",
        "\n",
        "**sampling_rate:** The rate at which audio samples are captured (in Hz). A common rate for speech audio is 22050 Hz.\n",
        "\n",
        "**pitch_variation:** This controls how much the pitch of the pseudo-speech fluctuates, imitating the changes in pitch when humans talk.\n",
        "volume_variation: Simulates changes in loudness, mimicking natural speech variations.\n",
        "\n",
        "**Sine Wave Generation:** The core of speech generation here relies on sine waves, where small random variations in frequency (pitch) create a speech-like sound.\n",
        "The base frequency of 150 Hz is a typical starting point for human speech, but this can be adjusted to produce different tones (e.g., deeper or higher-pitched pseudo-speech).\n",
        "\n",
        "**Amplitude/Volume Variation:** To simulate variations in how loud someone speaks, the code applies random multipliers to the sine wave, making the \"speech\" sound more dynamic.\n",
        "Normalization and Export:\n",
        "\n",
        "The generated signal is normalized to avoid distortion or clipping, and the audio is then exported as a .wav file, which can be played or further analyzed."
      ],
      "metadata": {
        "id": "bVwIQG8BR0D3"
      }
    },
    {
      "cell_type": "code",
      "execution_count": 3,
      "metadata": {
        "colab": {
          "base_uri": "https://localhost:8080/",
          "height": 17
        },
        "id": "GpBFMBcdPc-q",
        "outputId": "fe5f2919-5377-4710-f438-0298226ff14f"
      },
      "outputs": [
        {
          "output_type": "display_data",
          "data": {
            "text/plain": [
              "<IPython.core.display.Javascript object>"
            ],
            "application/javascript": [
              "\n",
              "    async function download(id, filename, size) {\n",
              "      if (!google.colab.kernel.accessAllowed) {\n",
              "        return;\n",
              "      }\n",
              "      const div = document.createElement('div');\n",
              "      const label = document.createElement('label');\n",
              "      label.textContent = `Downloading \"${filename}\": `;\n",
              "      div.appendChild(label);\n",
              "      const progress = document.createElement('progress');\n",
              "      progress.max = size;\n",
              "      div.appendChild(progress);\n",
              "      document.body.appendChild(div);\n",
              "\n",
              "      const buffers = [];\n",
              "      let downloaded = 0;\n",
              "\n",
              "      const channel = await google.colab.kernel.comms.open(id);\n",
              "      // Send a message to notify the kernel that we're ready.\n",
              "      channel.send({})\n",
              "\n",
              "      for await (const message of channel.messages) {\n",
              "        // Send a message to notify the kernel that we're ready.\n",
              "        channel.send({})\n",
              "        if (message.buffers) {\n",
              "          for (const buffer of message.buffers) {\n",
              "            buffers.push(buffer);\n",
              "            downloaded += buffer.byteLength;\n",
              "            progress.value = downloaded;\n",
              "          }\n",
              "        }\n",
              "      }\n",
              "      const blob = new Blob(buffers, {type: 'application/binary'});\n",
              "      const a = document.createElement('a');\n",
              "      a.href = window.URL.createObjectURL(blob);\n",
              "      a.download = filename;\n",
              "      div.appendChild(a);\n",
              "      a.click();\n",
              "      div.remove();\n",
              "    }\n",
              "  "
            ]
          },
          "metadata": {}
        },
        {
          "output_type": "display_data",
          "data": {
            "text/plain": [
              "<IPython.core.display.Javascript object>"
            ],
            "application/javascript": [
              "download(\"download_05118bc8-977a-49c8-9082-c81e60047098\", \"pseudo_speech_output.wav\", 441044)"
            ]
          },
          "metadata": {}
        }
      ],
      "source": [
        "import numpy as np\n",
        "import soundfile as sf\n",
        "from pydub import AudioSegment\n",
        "from google.colab import files\n",
        "\n",
        "# Parameters for the pseudo-speech generation\n",
        "duration = 10  # seconds\n",
        "sampling_rate = 22050  # Standard audio sampling rate\n",
        "pitch_variation = 10  # Frequency variation for pseudo-speech\n",
        "volume_variation = 0.2  # Variation in volume (0 to 1)\n",
        "\n",
        "# Generate random frequencies for pseudo speech-like tone\n",
        "def generate_pseudo_speech(duration, sampling_rate, pitch_variation, volume_variation):\n",
        "    t = np.linspace(0, duration, int(sampling_rate * duration))\n",
        "\n",
        "    # Generate sine waves with random frequency variation to mimic speech pitch changes\n",
        "    freq_base = 150  # Base frequency in Hz (a typical human speech frequency)\n",
        "    freq_variation = np.random.uniform(-pitch_variation, pitch_variation, size=len(t))\n",
        "    signal = np.sin(2 * np.pi * (freq_base + freq_variation) * t)\n",
        "\n",
        "    # Add volume variation to the signal to mimic speech loudness variation\n",
        "    volume = np.random.uniform(1 - volume_variation, 1 + volume_variation, size=len(t))\n",
        "    signal = signal * volume\n",
        "\n",
        "    # Normalize the signal\n",
        "    signal = signal / np.max(np.abs(signal))\n",
        "\n",
        "    return signal\n",
        "\n",
        "# Generate pseudo-speech audio\n",
        "pseudo_speech_signal = generate_pseudo_speech(duration, sampling_rate, pitch_variation, volume_variation)\n",
        "\n",
        "# Save the generated signal as a .wav file in Colab\n",
        "output_file = 'pseudo_speech_output.wav'\n",
        "sf.write(output_file, pseudo_speech_signal, sampling_rate)\n",
        "\n",
        "# Download the .wav file from Colab to your computer\n",
        "files.download(output_file)\n"
      ]
    },
    {
      "cell_type": "markdown",
      "source": [
        "To further analyze the generated speech, we can plot the waveform using matplotlib."
      ],
      "metadata": {
        "id": "ms93rzG_SMUM"
      }
    },
    {
      "cell_type": "code",
      "source": [
        "import matplotlib.pyplot as plt\n",
        "\n",
        "# Plot the waveform\n",
        "plt.figure(figsize=(10, 4))\n",
        "plt.plot(pseudo_speech_signal)\n",
        "plt.title(\"Pseudo-Speech Waveform\")\n",
        "plt.xlabel(\"Time\")\n",
        "plt.ylabel(\"Amplitude\")\n",
        "plt.show()"
      ],
      "metadata": {
        "colab": {
          "base_uri": "https://localhost:8080/",
          "height": 410
        },
        "id": "eTAXcLK0SHq4",
        "outputId": "93d221cb-0ffd-4065-93cb-71b63151f401"
      },
      "execution_count": 4,
      "outputs": [
        {
          "output_type": "display_data",
          "data": {
            "text/plain": [
              "<Figure size 1000x400 with 1 Axes>"
            ],
            "image/png": "[encoded data removed]"
          },
          "metadata": {}
        }
      ]
    }
  ]
}